{
 "cells": [
  {
   "attachments": {},
   "cell_type": "markdown",
   "metadata": {},
   "source": [
    "# Analysis of Airbnb data on multiple locations spread across Spain\n",
    "\n",
    "---\n"
   ]
  },
  {
   "attachments": {},
   "cell_type": "markdown",
   "metadata": {},
   "source": [
    "#### Setup\n"
   ]
  },
  {
   "cell_type": "code",
   "execution_count": null,
   "metadata": {},
   "outputs": [],
   "source": [
    "%load_ext autoreload\n",
    "%autoreload 2"
   ]
  },
  {
   "cell_type": "code",
   "execution_count": null,
   "metadata": {},
   "outputs": [],
   "source": [
    "import sys, os\n",
    "import logging\n",
    "import pandas as pd\n",
    "import seaborn as sns\n",
    "import json\n",
    "import numpy as np\n",
    "\n",
    "from copy import deepcopy\n",
    "import datetime\n",
    "from sklearn.preprocessing import Normalizer\n",
    "from sklearn.model_selection import GridSearchCV\n",
    "from sklearn.ensemble import RandomForestRegressor\n",
    "from sklearn.linear_model import ElasticNetCV\n",
    "from sklearn.metrics import r2_score\n",
    "from sklearn.model_selection import KFold\n",
    "from pathlib import Path\n",
    "from typing import Iterable\n",
    "from IPython import display as ICD\n",
    "from matplotlib import pyplot as plt"
   ]
  },
  {
   "cell_type": "code",
   "execution_count": null,
   "metadata": {},
   "outputs": [],
   "source": [
    "src_path: str = \"../src\"\n",
    "sys.path.append(src_path)\n",
    "logging.getLogger().setLevel(logging.WARN)"
   ]
  },
  {
   "cell_type": "code",
   "execution_count": null,
   "metadata": {},
   "outputs": [],
   "source": [
    "from data_wrangling import *"
   ]
  },
  {
   "cell_type": "code",
   "execution_count": null,
   "metadata": {},
   "outputs": [],
   "source": [
    "random_seed: int = 8080"
   ]
  },
  {
   "attachments": {},
   "cell_type": "markdown",
   "metadata": {},
   "source": [
    "---\n"
   ]
  },
  {
   "cell_type": "code",
   "execution_count": null,
   "metadata": {},
   "outputs": [],
   "source": [
    "pd.read_csv(\"../data/airbnb/euskadi/calendar.csv.bz2\", index_col=0)"
   ]
  },
  {
   "cell_type": "code",
   "execution_count": null,
   "metadata": {},
   "outputs": [],
   "source": [
    "pd.read_csv(\"../data/airbnb/euskadi/listings.csv.bz2\", index_col=0)"
   ]
  },
  {
   "attachments": {},
   "cell_type": "markdown",
   "metadata": {},
   "source": [
    "## 1. Data exploration\n",
    "\n",
    "In this section I will be exploring the Airbnb data schema. I will choose Madrid for this task, but all locations follow the same schema.\n"
   ]
  },
  {
   "cell_type": "code",
   "execution_count": null,
   "metadata": {},
   "outputs": [],
   "source": [
    "madrid_files: Path = Path(\"../data/airbnb/madrid\")"
   ]
  },
  {
   "cell_type": "code",
   "execution_count": null,
   "metadata": {},
   "outputs": [],
   "source": [
    "listings_schema_df = pd.read_csv(\n",
    "    madrid_files.parent.joinpath(\"listings_schema.csv\")\n",
    ").set_index(\"Field\")\n",
    "listings_df = pd.read_csv(madrid_files.joinpath(\"listings.csv.bz2\"))\n",
    "calendar_df = pd.read_csv(madrid_files.joinpath(\"calendar.csv.bz2\"))"
   ]
  },
  {
   "attachments": {},
   "cell_type": "markdown",
   "metadata": {},
   "source": [
    "### 1.1. Listings\n"
   ]
  },
  {
   "attachments": {},
   "cell_type": "markdown",
   "metadata": {},
   "source": [
    "Listings fields with descriptions\n"
   ]
  },
  {
   "cell_type": "code",
   "execution_count": null,
   "metadata": {},
   "outputs": [],
   "source": [
    "listings_with_desc = listings_schema_df[[\"Description\"]].dropna()\n",
    "listings_with_desc"
   ]
  },
  {
   "attachments": {},
   "cell_type": "markdown",
   "metadata": {},
   "source": [
    "Listings fields without descriptions\n"
   ]
  },
  {
   "cell_type": "code",
   "execution_count": null,
   "metadata": {},
   "outputs": [],
   "source": [
    "listings_without_desc = listings_schema_df[[\"Description\"]][\n",
    "    listings_schema_df[\"Description\"].isna()\n",
    "]\n",
    "listings_without_desc.index.tolist()"
   ]
  },
  {
   "attachments": {},
   "cell_type": "markdown",
   "metadata": {},
   "source": [
    "### 1.2. Calendar\n"
   ]
  },
  {
   "cell_type": "code",
   "execution_count": null,
   "metadata": {},
   "outputs": [],
   "source": [
    "calendar_df.head()"
   ]
  },
  {
   "attachments": {},
   "cell_type": "markdown",
   "metadata": {},
   "source": [
    "## 2. Data wrangling\n",
    "\n",
    "In this section we will be massaging the data to answer our business questions.\n"
   ]
  },
  {
   "cell_type": "code",
   "execution_count": null,
   "metadata": {},
   "outputs": [],
   "source": [
    "airbnb_files: Path = Path(\"../data/airbnb\")"
   ]
  },
  {
   "attachments": {},
   "cell_type": "markdown",
   "metadata": {},
   "source": [
    "### 2.1. _What is the average price of each location type per neighbourhood? What are the most expensive neighbourhoods on average?_\n"
   ]
  },
  {
   "cell_type": "code",
   "execution_count": null,
   "metadata": {},
   "outputs": [],
   "source": [
    "most_expensive_hoods = {}\n",
    "for path in airbnb_files.glob(\"**/listings.csv.bz2\"):\n",
    "    region_name = path.parent.name\n",
    "    most_expensive_hoods[region_name.title()] = airbnb_avg_price(path)[1]\n",
    "\n",
    "most_expensive_hoods_df = pd.DataFrame(most_expensive_hoods).transpose()\n",
    "most_expensive_hoods_df.to_csv(Path(\"../data/results/question_1.csv\"))\n",
    "most_expensive_hoods_df"
   ]
  },
  {
   "attachments": {},
   "cell_type": "markdown",
   "metadata": {},
   "source": [
    "### 2.2. _What is the average host acceptance rate per location type and neighborhood? In which neighbourhoods is it the highest and in which the lowest?_\n",
    "\n",
    "This can give us an idea of the negotiating power of the hosts or the desirability of guests.\n"
   ]
  },
  {
   "cell_type": "code",
   "execution_count": null,
   "metadata": {},
   "outputs": [],
   "source": [
    "highest_accept_rate_hoods = {}\n",
    "for path in airbnb_files.glob(\"**/listings.csv.bz2\"):\n",
    "    region_name = path.parent.name\n",
    "    highest_accept_rate_hoods[region_name.title()] = airbnb_avg_accept_rate(path)[1]\n",
    "\n",
    "highest_accept_rate_hoods_df = pd.DataFrame(highest_accept_rate_hoods).transpose()\n",
    "highest_accept_rate_hoods_df.to_csv(Path(\"../data/results/question_2.csv\"))\n",
    "highest_accept_rate_hoods_df"
   ]
  },
  {
   "attachments": {},
   "cell_type": "markdown",
   "metadata": {},
   "source": [
    "### 2.3. _What number and proportion of listings per neighbourhood belong to hosts owning different numbers of locations? In which neighbourhoods is the concentration bigger?_\n"
   ]
  },
  {
   "cell_type": "code",
   "execution_count": null,
   "metadata": {},
   "outputs": [],
   "source": [
    "most_dense_hoods = {}\n",
    "for path in airbnb_files.glob(\"**/listings.csv.bz2\"):\n",
    "    region_name = path.parent.name\n",
    "    most_dense_hoods[region_name.title()] = airbnb_hood_hosts(path)[1]\n",
    "\n",
    "most_dense_hoods_df = pd.DataFrame(most_dense_hoods).transpose()\n",
    "most_dense_hoods_df.to_csv(Path(\"../data/results/question_3.csv\"))\n",
    "most_dense_hoods_df"
   ]
  },
  {
   "attachments": {},
   "cell_type": "markdown",
   "metadata": {},
   "source": [
    "### 2.4. _What is the expected average profit per room type and neighborhood when looking at the reservations for the next N weeks? What is the neighbourhood expected to be the most profitable in that period?_\n",
    "\n",
    "Here we assume that none of the reserved dates will be cancelled and that they are a good representation of the observed period.\n"
   ]
  },
  {
   "cell_type": "code",
   "execution_count": null,
   "metadata": {},
   "outputs": [],
   "source": [
    "n_weeks = 6 * 4"
   ]
  },
  {
   "cell_type": "code",
   "execution_count": null,
   "metadata": {},
   "outputs": [],
   "source": [
    "most_profitable_hoods = {}\n",
    "for listings_path, calendar_path in zip(\n",
    "    sorted(airbnb_files.glob(\"**/listings.csv.bz2\")),\n",
    "    sorted(airbnb_files.glob(\"**/calendar.csv.bz2\")),\n",
    "):\n",
    "    region_name = listings_path.parent.name\n",
    "    most_profitable_hoods[region_name.title()] = airbnb_avg_profit(\n",
    "        listings_path, calendar_path, n_weeks=n_weeks\n",
    "    )[1]\n",
    "\n",
    "most_profitable_hoods_df = pd.DataFrame(most_profitable_hoods).transpose()\n",
    "most_profitable_hoods_df.to_csv(Path(\"../data/results/question_4.csv\"))\n",
    "most_profitable_hoods_df"
   ]
  },
  {
   "attachments": {},
   "cell_type": "markdown",
   "metadata": {},
   "source": [
    "### 2.5. _What listings' factors affect the total profit in the next N weeks? Can the total profit be predicted?_\n",
    "\n",
    "Here we assume that none of the reserved dates will be cancelled and that they are a good representation of the observed period.\n"
   ]
  },
  {
   "cell_type": "code",
   "execution_count": null,
   "metadata": {},
   "outputs": [],
   "source": [
    "profit_predictions = {}\n",
    "for listings_path, calendar_path in zip(\n",
    "    sorted(airbnb_files.glob(\"**/listings.csv.bz2\")),\n",
    "    sorted(airbnb_files.glob(\"**/calendar.csv.bz2\")),\n",
    "):\n",
    "    region_name = listings_path.parent.name\n",
    "    num_features, cat_features, mean_r2_score = airbnb_predict_profit(\n",
    "        listings_path,\n",
    "        calendar_path,\n",
    "        feature_th=0,\n",
    "        n_weeks=n_weeks,\n",
    "        random_seed=random_seed,\n",
    "    )\n",
    "    profit_predictions[region_name.title()] = {\n",
    "        \"num_features\": len(num_features),\n",
    "        \"cat_features\": len(cat_features),\n",
    "        \"mean_r2_score\": mean_r2_score,\n",
    "    }\n",
    "\n",
    "profit_predictions_df = pd.DataFrame(profit_predictions).transpose()\n",
    "profit_predictions_df.to_csv(Path(\"../data/results/question_5.csv\"))\n",
    "profit_predictions_df"
   ]
  },
  {
   "cell_type": "code",
   "execution_count": null,
   "metadata": {},
   "outputs": [],
   "source": []
  }
 ],
 "metadata": {
  "kernelspec": {
   "display_name": "airbnb_spain",
   "language": "python",
   "name": "python3"
  },
  "language_info": {
   "codemirror_mode": {
    "name": "ipython",
    "version": 3
   },
   "file_extension": ".py",
   "mimetype": "text/x-python",
   "name": "python",
   "nbconvert_exporter": "python",
   "pygments_lexer": "ipython3",
   "version": "3.11.0"
  },
  "orig_nbformat": 4,
  "vscode": {
   "interpreter": {
    "hash": "ae3f06d85a44bfbb20b23c03a4be431ef437bbd8be64731e67f83cfb240ee6b1"
   }
  }
 },
 "nbformat": 4,
 "nbformat_minor": 2
}
