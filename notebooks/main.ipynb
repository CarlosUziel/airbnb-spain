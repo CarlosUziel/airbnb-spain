{
 "cells": [
  {
   "attachments": {},
   "cell_type": "markdown",
   "metadata": {},
   "source": [
    "# Analysis of Airbnb data on multiple locations spread across Spain\n",
    "\n",
    "---\n"
   ]
  },
  {
   "attachments": {},
   "cell_type": "markdown",
   "metadata": {},
   "source": [
    "#### Setup\n"
   ]
  },
  {
   "cell_type": "code",
   "execution_count": null,
   "metadata": {},
   "outputs": [],
   "source": [
    "%load_ext autoreload\n",
    "%autoreload 2"
   ]
  },
  {
   "cell_type": "code",
   "execution_count": null,
   "metadata": {},
   "outputs": [],
   "source": [
    "import sys, os\n",
    "import logging\n",
    "import pandas as pd\n",
    "import seaborn as sns\n",
    "import json\n",
    "import numpy as np\n",
    "\n",
    "from copy import deepcopy\n",
    "import datetime\n",
    "from sklearn.preprocessing import Normalizer\n",
    "from sklearn.model_selection import GridSearchCV\n",
    "from sklearn.ensemble import RandomForestRegressor\n",
    "from sklearn.linear_model import ElasticNetCV\n",
    "from sklearn.metrics import r2_score\n",
    "from sklearn.model_selection import KFold\n",
    "from pathlib import Path\n",
    "from typing import Iterable\n",
    "from IPython import display as ICD\n",
    "from matplotlib import pyplot as plt"
   ]
  },
  {
   "cell_type": "code",
   "execution_count": null,
   "metadata": {},
   "outputs": [],
   "source": [
    "src_path: str = \"../src\"\n",
    "sys.path.append(src_path)\n",
    "logging.getLogger().setLevel(logging.INFO)"
   ]
  },
  {
   "cell_type": "code",
   "execution_count": null,
   "metadata": {},
   "outputs": [],
   "source": [
    "from data_wrangling import *"
   ]
  },
  {
   "cell_type": "code",
   "execution_count": null,
   "metadata": {},
   "outputs": [],
   "source": [
    "random_seed: int = 8080"
   ]
  },
  {
   "attachments": {},
   "cell_type": "markdown",
   "metadata": {},
   "source": [
    "---\n"
   ]
  },
  {
   "cell_type": "code",
   "execution_count": null,
   "metadata": {},
   "outputs": [],
   "source": [
    "pd.read_csv(\"../data/airbnb/euskadi/calendar.csv.bz2\", index_col=0)"
   ]
  },
  {
   "cell_type": "code",
   "execution_count": null,
   "metadata": {},
   "outputs": [],
   "source": [
    "pd.read_csv(\"../data/airbnb/euskadi/listings.csv.bz2\", index_col=0)"
   ]
  },
  {
   "attachments": {},
   "cell_type": "markdown",
   "metadata": {},
   "source": [
    "## 1. Data exploration\n",
    "\n",
    "In this section I will be exploring the Airbnb data schema. I will choose Madrid for this task, but all locations follow the same schema.\n"
   ]
  },
  {
   "cell_type": "code",
   "execution_count": null,
   "metadata": {},
   "outputs": [],
   "source": [
    "madrid_files: Path = Path(\"../data/airbnb/madrid\")"
   ]
  },
  {
   "cell_type": "code",
   "execution_count": null,
   "metadata": {},
   "outputs": [],
   "source": [
    "listings_schema_df = pd.read_csv(\n",
    "    madrid_files.parent.joinpath(\"listings_schema.csv\")\n",
    ").set_index(\"Field\")\n",
    "listings_df = pd.read_csv(madrid_files.joinpath(\"listings.csv.bz2\"))\n",
    "calendar_df = pd.read_csv(madrid_files.joinpath(\"calendar.csv.bz2\"))"
   ]
  },
  {
   "attachments": {},
   "cell_type": "markdown",
   "metadata": {},
   "source": [
    "### 1.1. Listings\n"
   ]
  },
  {
   "attachments": {},
   "cell_type": "markdown",
   "metadata": {},
   "source": [
    "Listings fields with descriptions\n"
   ]
  },
  {
   "cell_type": "code",
   "execution_count": null,
   "metadata": {},
   "outputs": [],
   "source": [
    "listings_with_desc = listings_schema_df[[\"Description\"]].dropna()\n",
    "listings_with_desc"
   ]
  },
  {
   "attachments": {},
   "cell_type": "markdown",
   "metadata": {},
   "source": [
    "Listings fields without descriptions\n"
   ]
  },
  {
   "cell_type": "code",
   "execution_count": null,
   "metadata": {},
   "outputs": [],
   "source": [
    "listings_without_desc = listings_schema_df[[\"Description\"]][\n",
    "    listings_schema_df[\"Description\"].isna()\n",
    "]\n",
    "listings_without_desc.index.tolist()"
   ]
  },
  {
   "attachments": {},
   "cell_type": "markdown",
   "metadata": {},
   "source": [
    "### 1.2. Calendar\n"
   ]
  },
  {
   "cell_type": "code",
   "execution_count": null,
   "metadata": {},
   "outputs": [],
   "source": [
    "calendar_df.head()"
   ]
  },
  {
   "attachments": {},
   "cell_type": "markdown",
   "metadata": {},
   "source": [
    "## 2. Data wrangling\n",
    "\n",
    "In this section we will be massaging the data to answer our business questions.\n"
   ]
  },
  {
   "cell_type": "code",
   "execution_count": null,
   "metadata": {},
   "outputs": [],
   "source": [
    "airbnb_files: Path = Path(\"../data/airbnb\")"
   ]
  },
  {
   "attachments": {},
   "cell_type": "markdown",
   "metadata": {},
   "source": [
    "### 2.1. _What is the average price of each location type per neighbourhood? What are the most expensive neighbourhoods on average?_\n"
   ]
  },
  {
   "cell_type": "code",
   "execution_count": null,
   "metadata": {},
   "outputs": [],
   "source": [
    "most_expensive_hoods = {}\n",
    "for path in airbnb_files.glob(\"**/listings.csv.bz2\"):\n",
    "    region_name = path.parent.name\n",
    "    most_expensive_hoods[region_name.title()] = airbnb_avg_price(path)[1]\n",
    "\n",
    "most_expensive_hoods_df = pd.DataFrame(most_expensive_hoods).transpose()\n",
    "most_expensive_hoods_df"
   ]
  },
  {
   "attachments": {},
   "cell_type": "markdown",
   "metadata": {},
   "source": [
    "### 2.2. _What is the average host acceptance rate per location type and neighborhood? In which neighbourhoods is it the highest and in which the lowest?_\n",
    "\n",
    "This can give us an idea of the negotiating power of the hosts or the desirability of guests.\n"
   ]
  },
  {
   "cell_type": "code",
   "execution_count": null,
   "metadata": {},
   "outputs": [],
   "source": [
    "highest_accept_rate_hoods = {}\n",
    "for path in airbnb_files.glob(\"**/listings.csv.bz2\"):\n",
    "    region_name = path.parent.name\n",
    "    highest_accept_rate_hoods[region_name.title()] = airbnb_avg_accept_rate(path)[1]\n",
    "\n",
    "highest_accept_rate_hoods_df = pd.DataFrame(highest_accept_rate_hoods).transpose()\n",
    "highest_accept_rate_hoods_df"
   ]
  },
  {
   "attachments": {},
   "cell_type": "markdown",
   "metadata": {},
   "source": [
    "### 2.3. _What number and proportion of listings per neighbourhood belong to hosts owning different numbers of locations? In which neighbourhoods is the concentration bigger?_\n"
   ]
  },
  {
   "cell_type": "code",
   "execution_count": null,
   "metadata": {},
   "outputs": [],
   "source": [
    "most_dense_hoods = {}\n",
    "for path in airbnb_files.glob(\"**/listings.csv.bz2\"):\n",
    "    region_name = path.parent.name\n",
    "    most_dense_hoods[region_name.title()] = airbnb_hood_hosts(path)[1]\n",
    "\n",
    "most_dense_hoods_df = pd.DataFrame(most_dense_hoods).transpose()\n",
    "most_dense_hoods_df"
   ]
  },
  {
   "attachments": {},
   "cell_type": "markdown",
   "metadata": {},
   "source": [
    "### 2.4. _What is the expected average profit per room type and neighborhood when looking at the reservations for the next N weeks? What is the neighbourhood expected to be the most profitable in that period?_\n",
    "\n",
    "Here we assume that none of the reserved dates will be cancelled and that they are a good representation of the observed period.\n"
   ]
  },
  {
   "cell_type": "code",
   "execution_count": null,
   "metadata": {},
   "outputs": [],
   "source": [
    "n_weeks = 8"
   ]
  },
  {
   "cell_type": "code",
   "execution_count": null,
   "metadata": {},
   "outputs": [],
   "source": [
    "most_profitable_hoods = {}\n",
    "for listings_path, calendar_path in zip(\n",
    "    sorted(airbnb_files.glob(\"**/listings.csv.bz2\")),\n",
    "    sorted(airbnb_files.glob(\"**/calendar.csv.bz2\")),\n",
    "):\n",
    "    region_name = listings_path.parent.name\n",
    "    most_profitable_hoods[region_name.title()] = airbnb_avg_profit(\n",
    "        listings_path, calendar_path, n_weeks=n_weeks\n",
    "    )[1]\n",
    "\n",
    "most_profitable_hoods_df = pd.DataFrame(most_profitable_hoods).transpose()\n",
    "most_profitable_hoods_df"
   ]
  },
  {
   "attachments": {},
   "cell_type": "markdown",
   "metadata": {},
   "source": [
    "### 2.5. _What listings' factors affect the number of reservations? Can they be predicted?_\n",
    "\n",
    "Here we assume that none of the reserved dates will be cancelled and that they are a good representation of the yearly trend.\n"
   ]
  },
  {
   "cell_type": "code",
   "execution_count": null,
   "metadata": {},
   "outputs": [],
   "source": []
  },
  {
   "cell_type": "code",
   "execution_count": null,
   "metadata": {},
   "outputs": [],
   "source": []
  },
  {
   "cell_type": "code",
   "execution_count": null,
   "metadata": {},
   "outputs": [],
   "source": []
  },
  {
   "cell_type": "code",
   "execution_count": null,
   "metadata": {},
   "outputs": [],
   "source": [
    "listings_reservations_df = (\n",
    "    calendar_df[calendar_df[\"available\"] == \"f\"][[\"listing_id\", \"date\"]]\n",
    "    .groupby(\"listing_id\")\n",
    "    .count()\n",
    "    .rename(columns={\"date\": \"reservations_count\"})\n",
    "    .join(listings_df.set_index(\"id\"))\n",
    ")\n",
    "listings_reservations_df = listings_reservations_df.drop(\n",
    "    columns=[\n",
    "        c\n",
    "        for c in listings_reservations_df.columns\n",
    "        if any(s in c for s in [\"availability\", \"calculated\"])\n",
    "    ]\n",
    ")\n",
    "listings_reservations_df.head()"
   ]
  },
  {
   "cell_type": "code",
   "execution_count": null,
   "metadata": {},
   "outputs": [],
   "source": [
    "corr_matrix_quant = listings_reservations_df.select_dtypes(include=(float, int)).corr(\n",
    "    method=\"spearman\"\n",
    ")\n",
    "reservations_quant_corr = (\n",
    "    corr_matrix_quant[\"reservations_count\"]\n",
    "    .dropna()\n",
    "    .sort_values(key=abs, ascending=False)\n",
    ")\n",
    "reservations_quant_corr.head(20)"
   ]
  },
  {
   "cell_type": "code",
   "execution_count": null,
   "metadata": {},
   "outputs": [],
   "source": [
    "cat_df = listings_reservations_df.select_dtypes(include=object)\n",
    "cat_df = cat_df[cat_df.columns[cat_df.nunique() <= 10]]\n",
    "cat_df = pd.concat(\n",
    "    [\n",
    "        pd.get_dummies(cat_df),\n",
    "        listings_reservations_df[\"reservations_count\"],\n",
    "    ],\n",
    "    axis=1,\n",
    ")\n",
    "cat_df.columns = [c.lower().replace(\" \", \"_\") for c in cat_df.columns]\n",
    "cat_df.head()"
   ]
  },
  {
   "cell_type": "code",
   "execution_count": null,
   "metadata": {},
   "outputs": [],
   "source": [
    "corr_matrix_qual = cat_df.corr(method=\"spearman\")\n",
    "reservations_qual_corr = (\n",
    "    corr_matrix_qual[\"reservations_count\"]\n",
    "    .dropna()\n",
    "    .sort_values(key=abs, ascending=False)\n",
    ")\n",
    "reservations_qual_corr.head(20)"
   ]
  },
  {
   "cell_type": "code",
   "execution_count": null,
   "metadata": {},
   "outputs": [],
   "source": [
    "X = pd.concat(\n",
    "    [\n",
    "        listings_reservations_df[\n",
    "            reservations_quant_corr[abs(reservations_quant_corr) > 0.2].index\n",
    "        ],\n",
    "        cat_df[reservations_qual_corr[abs(reservations_qual_corr) > 0.2].index],\n",
    "    ],\n",
    "    axis=1,\n",
    ").drop(columns=[\"reservations_count\"])\n",
    "X.columns = [c.lower().replace(\" \", \"_\") for c in X.columns]\n",
    "\n",
    "# we want complete, verified data for training a model, hence we remove all listings with NaN values.\n",
    "X.dropna(inplace=True)\n",
    "\n",
    "y = listings_reservations_df[[\"reservations_count\"]]"
   ]
  },
  {
   "cell_type": "code",
   "execution_count": null,
   "metadata": {},
   "outputs": [],
   "source": [
    "X.head()"
   ]
  },
  {
   "cell_type": "code",
   "execution_count": null,
   "metadata": {},
   "outputs": [],
   "source": [
    "k_fold_cross_valitor = KFold(10, random_state=random_seed, shuffle=True)\n",
    "model_base = ElasticNetCV(\n",
    "    l1_ratio=[0.1, 0.5, 0.7, 0.9, 0.95, 0.99, 1],\n",
    "    alphas=[0.0001, 0.001, 0.01, 0.1, 0.3, 0.5, 0.7, 1],\n",
    "    max_iter=int(1e5),\n",
    "    cv=10,\n",
    "    n_jobs=8,\n",
    "    random_state=random_seed,\n",
    ")\n",
    "\n",
    "k_fold_scores = []\n",
    "for train_index, test_index in k_fold_cross_valitor.split(X):\n",
    "    model = deepcopy(model_base)\n",
    "    normalizer = Normalizer()\n",
    "    X_train = normalizer.fit_transform(np.ascontiguousarray(X.iloc[train_index]))\n",
    "    model.fit(\n",
    "        X_train,\n",
    "        np.ravel(np.ascontiguousarray(y.iloc[train_index])),\n",
    "    )\n",
    "    k_fold_scores.append(\n",
    "        r2_score(\n",
    "            np.ravel(np.ascontiguousarray(y.iloc[test_index])),\n",
    "            model.predict(\n",
    "                normalizer.transform(np.ascontiguousarray((X.iloc[test_index])))\n",
    "            ),\n",
    "        )\n",
    "    )\n",
    "\n",
    "print(k_fold_scores)\n",
    "print(np.mean(k_fold_scores))"
   ]
  },
  {
   "attachments": {},
   "cell_type": "markdown",
   "metadata": {},
   "source": [
    "Using the selected columns, the model is able to explain X% of the variance in the number of reservations.\n"
   ]
  },
  {
   "cell_type": "code",
   "execution_count": null,
   "metadata": {},
   "outputs": [],
   "source": []
  }
 ],
 "metadata": {
  "kernelspec": {
   "display_name": "airbnb_spain",
   "language": "python",
   "name": "python3"
  },
  "language_info": {
   "codemirror_mode": {
    "name": "ipython",
    "version": 3
   },
   "file_extension": ".py",
   "mimetype": "text/x-python",
   "name": "python",
   "nbconvert_exporter": "python",
   "pygments_lexer": "ipython3",
   "version": "3.11.0"
  },
  "orig_nbformat": 4,
  "vscode": {
   "interpreter": {
    "hash": "ae3f06d85a44bfbb20b23c03a4be431ef437bbd8be64731e67f83cfb240ee6b1"
   }
  }
 },
 "nbformat": 4,
 "nbformat_minor": 2
}
