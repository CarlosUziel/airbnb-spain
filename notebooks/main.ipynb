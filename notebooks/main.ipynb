{
 "cells": [
  {
   "attachments": {},
   "cell_type": "markdown",
   "metadata": {},
   "source": [
    "# **Analysis of Airbnb data on multiple locations spread across Spain**\n"
   ]
  },
  {
   "attachments": {},
   "cell_type": "markdown",
   "metadata": {},
   "source": [
    "In this mini-project, I use the [CRISP-DM](https://en.wikipedia.org/wiki/Cross-industry_standard_process_for_data_mining) process to answer several business questions about Airbnb locations and reservations across Spain using their publicly-available data. Get to know the main insights by reading [my post on Medium](https://medium.com/@carlosuziel.pm/can-we-guess-the-best-location-in-spain-to-invest-in-real-state-9a7c74304456).\n"
   ]
  },
  {
   "attachments": {},
   "cell_type": "markdown",
   "metadata": {},
   "source": [
    "## **Section 1: Business Understanding**\n",
    "\n",
    "---\n"
   ]
  },
  {
   "attachments": {},
   "cell_type": "markdown",
   "metadata": {},
   "source": [
    "We will take the role of a private investor that has decided to purchase a property in Spain for renting it out through Airbnb. After careful examination, we have selected 9 possible Spanish cities where it would be interesting to make such a purchase. Naturally, we want to maximize our return on investment (ROI), for which we need to understand the competition in each city as well as the main price drivers for each location.\n",
    "\n",
    "After having a brief look at the available data, we have selected a few questions that will aid us in making our investment decisions:\n",
    "\n",
    "1. _**What is the average price of each location type per neighbourhood? What are the most expensive neighbourhoods on average?**_\n",
    "2. _**What is the average host acceptance rate per location type and neighborhood? In which neighbourhoods is it the lowest?**_\n",
    "3. _**How is the competition in each neighbourhood? What number and proportion of listings belong to hosts owning different numbers of locations? In which neighbourhoods is the concentration lower?**_\n",
    "4. _**What is the expected average profit per room type and neighborhood when looking at the reservations for the next 6 months? What is the neighbourhood expected to be the most profitable in that period?**_\n",
    "5. _**What listings' factors affect the expected profit for the next 6 months? Can we use them to forecast the expected profit over that period?**_\n",
    "\n",
    "We will be comparing the answers to those questions among the different Spanish regions of **Madrid**, **Barcelona**, **Girona**, **Valencia**, **Mallorca**, **Menorca**, **Sevilla**, **Málaga** and **Euskadi**. Hopefully, this will help us in making a more informed investment decision.\n"
   ]
  },
  {
   "attachments": {},
   "cell_type": "markdown",
   "metadata": {},
   "source": [
    "## **Section 2: Data Understanding**\n",
    "\n",
    "---\n"
   ]
  },
  {
   "attachments": {},
   "cell_type": "markdown",
   "metadata": {},
   "source": [
    "In this section we will be taking a brief look at the data we obtained from the [Airbnb portal](http://insideairbnb.com/get-the-data/). We are going to be examining multilple Spanish regions, but since all of them share the same data structure, here we will only focus on Madrid.\n"
   ]
  },
  {
   "attachments": {},
   "cell_type": "markdown",
   "metadata": {},
   "source": [
    "### Setup\n"
   ]
  },
  {
   "cell_type": "code",
   "execution_count": null,
   "metadata": {},
   "outputs": [],
   "source": [
    "%load_ext autoreload\n",
    "%autoreload 2"
   ]
  },
  {
   "cell_type": "code",
   "execution_count": null,
   "metadata": {},
   "outputs": [],
   "source": [
    "import sys, os\n",
    "import logging\n",
    "import json\n",
    "import pandas as pd\n",
    "\n",
    "from pathlib import Path\n",
    "from IPython import display as ICD"
   ]
  },
  {
   "cell_type": "code",
   "execution_count": null,
   "metadata": {},
   "outputs": [],
   "source": [
    "src_path: str = \"../src\"\n",
    "sys.path.append(src_path)\n",
    "logging.getLogger().setLevel(logging.WARN)"
   ]
  },
  {
   "cell_type": "code",
   "execution_count": null,
   "metadata": {},
   "outputs": [],
   "source": [
    "from data_wrangling import (\n",
    "    airbnb_avg_price,\n",
    "    airbnb_avg_accept_rate,\n",
    "    airbnb_hood_hosts,\n",
    "    airbnb_avg_profit,\n",
    "    airbnb_predict_profit,\n",
    ")"
   ]
  },
  {
   "cell_type": "code",
   "execution_count": null,
   "metadata": {},
   "outputs": [],
   "source": [
    "random_seed: int = 8080\n",
    "airbnb_root: Path = Path(\"../data/airbnb\")\n",
    "madrid_root: Path = airbnb_root.joinpath(\"madrid\")\n",
    "results_root: Path = Path(\"../data/results\")"
   ]
  },
  {
   "attachments": {},
   "cell_type": "markdown",
   "metadata": {},
   "source": [
    "### Gather data\n"
   ]
  },
  {
   "cell_type": "code",
   "execution_count": null,
   "metadata": {},
   "outputs": [],
   "source": [
    "listings_schema_df = pd.read_csv(\n",
    "    madrid_root.parent.joinpath(\"listings_schema.csv\")\n",
    ").set_index(\"Field\")\n",
    "listings_df = pd.read_csv(madrid_root.joinpath(\"listings.csv.bz2\"))\n",
    "calendar_df = pd.read_csv(madrid_root.joinpath(\"calendar.csv.bz2\"))"
   ]
  },
  {
   "attachments": {},
   "cell_type": "markdown",
   "metadata": {},
   "source": [
    "#### Listings\n"
   ]
  },
  {
   "attachments": {},
   "cell_type": "markdown",
   "metadata": {},
   "source": [
    "The following are the fields of the listings dataframe that **have** descriptions:\n"
   ]
  },
  {
   "cell_type": "code",
   "execution_count": null,
   "metadata": {},
   "outputs": [],
   "source": [
    "listings_with_desc = listings_schema_df[[\"Description\"]].dropna()\n",
    "listings_with_desc"
   ]
  },
  {
   "attachments": {},
   "cell_type": "markdown",
   "metadata": {},
   "source": [
    "The following are the fields of the listings dataframe that **don't have** descriptions:\n"
   ]
  },
  {
   "cell_type": "code",
   "execution_count": null,
   "metadata": {},
   "outputs": [],
   "source": [
    "listings_without_desc = listings_schema_df[[\"Description\"]][\n",
    "    listings_schema_df[\"Description\"].isna()\n",
    "]\n",
    "listings_without_desc.index.tolist()"
   ]
  },
  {
   "attachments": {},
   "cell_type": "markdown",
   "metadata": {},
   "source": [
    "Most fields without descriptions are self-explanatory. To answer our questions, we will mostly be using the following fields: `id`, `price`, `neighbourhood_cleansed` and `room_type`. Additional fields will be used in concrete cases, such as the final data modeling step to answer question 5.\n"
   ]
  },
  {
   "attachments": {},
   "cell_type": "markdown",
   "metadata": {},
   "source": [
    "### Calendar\n"
   ]
  },
  {
   "cell_type": "code",
   "execution_count": null,
   "metadata": {},
   "outputs": [],
   "source": [
    "calendar_df.head()"
   ]
  },
  {
   "attachments": {},
   "cell_type": "markdown",
   "metadata": {},
   "source": [
    "The calendar data is quite simple. Each row shows the availability of a listing at a certain date, which includes an `adjusted_price` that we assume is the final price to pay by the person making the reservation, should it not be cancelled beforehand.\n"
   ]
  },
  {
   "attachments": {},
   "cell_type": "markdown",
   "metadata": {},
   "source": [
    "## **Section 3: Data Preparation**\n",
    "\n",
    "---\n"
   ]
  },
  {
   "attachments": {},
   "cell_type": "markdown",
   "metadata": {},
   "source": [
    "All data preparation steps are included in functions located in `src/data_wrangling.py` following good software engineering principles such as reproducibility and encapsulation. Each function is designed to separately prepare the data necessary to answer each question. They are thus complete and independent of each other. In this section we will briefly see the data processing steps that were necessary to answer each question.\n"
   ]
  },
  {
   "attachments": {},
   "cell_type": "markdown",
   "metadata": {},
   "source": [
    "### **Question 1: _What is the average price of each location type per neighbourhood? What are the most expensive neighbourhoods on average?_**\n"
   ]
  },
  {
   "cell_type": "code",
   "execution_count": null,
   "metadata": {},
   "outputs": [],
   "source": [
    "most_expensive_hoods = {}\n",
    "for path in airbnb_root.glob(\"**/listings.csv.bz2\"):\n",
    "    region_name = path.parent.name\n",
    "    df, most_expensive_hoods[region_name.title()] = airbnb_avg_price(path)\n",
    "    df.to_csv(results_root.joinpath(f\"question_1_{region_name}.csv\"))\n",
    "\n",
    "most_expensive_hoods_df = pd.DataFrame(most_expensive_hoods).transpose().sort_index()\n",
    "most_expensive_hoods_df.to_csv(results_root.joinpath(\"question_1_summary.csv\"))"
   ]
  },
  {
   "attachments": {},
   "cell_type": "markdown",
   "metadata": {},
   "source": [
    "The function `airbnb_avg_price` provides two outputs, with the first and second answering the first and second parts of the question, respectively.\n",
    "\n",
    "Data processing steps necessary to answer this question include:\n",
    "\n",
    "1. Load listings data.\n",
    "2. Dropping NaN values in the fields `price`, `room_type` and `neighbourhood_cleansed`. I decided to drop them because imputing these would make no sense.\n",
    "3. Ensure that only string values are present in the fields `price`, `room_type` and `neighbourhood_cleansed`. Non-string values are dropped without consideration, as they are considered to be human-made errors. Besides, this was an issue only affecting a few regions.\n",
    "4. Extract numeric value from `price` string field, which originally includes currency symbol. The new field is called `price_num`.\n",
    "5. Group data by `neighbourhood_cleansed` and `room_type` and average `price_num`.\n",
    "6. Finally, we sort results to obtain the most expensive neighbourhoods on average per room type.\n"
   ]
  },
  {
   "attachments": {},
   "cell_type": "markdown",
   "metadata": {},
   "source": [
    "### **Question 2: _What is the average host acceptance rate per location type and neighborhood? In which neighbourhoods is it the lowest?_**\n",
    "\n",
    "This can give us an idea of the negotiating power of the hosts or the desirability of guests.\n"
   ]
  },
  {
   "cell_type": "code",
   "execution_count": null,
   "metadata": {},
   "outputs": [],
   "source": [
    "lowest_accept_rate_hoods = {}\n",
    "for path in airbnb_root.glob(\"**/listings.csv.bz2\"):\n",
    "    region_name = path.parent.name\n",
    "    df, lowest_accept_rate_hoods[region_name.title()] = airbnb_avg_accept_rate(path)\n",
    "    df.to_csv(results_root.joinpath(f\"question_2_{region_name}.csv\"))\n",
    "\n",
    "lowest_accept_rate_hoods_df = (\n",
    "    pd.DataFrame(lowest_accept_rate_hoods).transpose().sort_index()\n",
    ")\n",
    "lowest_accept_rate_hoods_df.to_csv(results_root.joinpath(\"question_2_summary.csv\"))"
   ]
  },
  {
   "attachments": {},
   "cell_type": "markdown",
   "metadata": {},
   "source": [
    "The function `airbnb_avg_accept_rate` provides two outputs, with the first and second answering the first and second parts of the question, respectively.\n",
    "\n",
    "Data processing steps necessary to answer this question include:\n",
    "\n",
    "1. Load listings data.\n",
    "2. Dropping NaN values in the fields `host_acceptance_rate`, `room_type` and `neighbourhood_cleansed`. I decided to drop them because imputing these would make no sense.\n",
    "3. Ensure that only string values are present in the fields `host_acceptance_rate`, `room_type` and `neighbourhood_cleansed`. Non-string values are dropped without consideration, as they are considered to be human-made errors. Besides, this was an issue only affecting a few regions.\n",
    "4. Extract numeric value from `host_acceptance_rate` string field, which originally includes percentage symbol. The new field is called `host_acceptance_rate_num`.\n",
    "5. Group data by `neighbourhood_cleansed` and `room_type` and average `host_acceptance_rate_num`.\n",
    "6. Finally, we sort results to obtain the neighbourhoods with the lowest acceptance rate on average per room type.\n"
   ]
  },
  {
   "attachments": {},
   "cell_type": "markdown",
   "metadata": {},
   "source": [
    "### **Question 3. _What number and proportion of listings per neighbourhood belong to hosts owning different numbers of locations? In which neighbourhoods is the concentration lower?_**\n"
   ]
  },
  {
   "cell_type": "code",
   "execution_count": null,
   "metadata": {},
   "outputs": [],
   "source": [
    "least_dense_hoods = {}\n",
    "for path in airbnb_root.glob(\"**/listings.csv.bz2\"):\n",
    "    region_name = path.parent.name\n",
    "    df, least_dense_hoods[region_name.title()] = airbnb_hood_hosts(path)\n",
    "    df.to_csv(results_root.joinpath(f\"question_3_{region_name}.csv\"))\n",
    "\n",
    "least_dense_hoods_df = pd.DataFrame(least_dense_hoods).transpose().sort_index()\n",
    "least_dense_hoods_df.to_csv(results_root.joinpath(\"question_3_summary.csv\"))"
   ]
  },
  {
   "attachments": {},
   "cell_type": "markdown",
   "metadata": {},
   "source": [
    "The function `airbnb_hood_hosts` provides two outputs, with the first and second answering the first and second parts of the question, respectively.\n",
    "\n",
    "Data processing steps necessary to answer this question include:\n",
    "\n",
    "1. Load listings data.\n",
    "2. Dropping NaN values in the fields `id`, `host_id` and `neighbourhood_cleansed`. I decided to drop them because imputing these would make no sense.\n",
    "3. Ensure that only string values are present in the field `neighbourhood_cleansed`. Non-string values are dropped without consideration, as they are considered to be human-made errors. Besides, this was an issue only affecting a few regions.\n",
    "4. Group data by `host_id` and `neighbourhood_cleansed` to get the number of listings per host in each neighbourhood.\n",
    "5. Group hosts into clusters (binning) depending on how many listings they own. We considered four clusters: `1`, `2_to_5`, `6_to_20` and `21_to_many`. Then, we count the number of hosts in each cluster for each neighbourhood.\n",
    "6. Finally, we sort results to obtain the neighbourhoods with the lowest concentration of hosts in each host group.\n"
   ]
  },
  {
   "attachments": {},
   "cell_type": "markdown",
   "metadata": {},
   "source": [
    "### **Question 4: _What is the expected average profit per room type and neighborhood when looking at the reservations for the next 6 months? What is the neighbourhood expected to be the most profitable in that period?_**\n",
    "\n",
    "Here we assume that none of the reserved dates will be cancelled and that they are a good representation of the observed period.\n"
   ]
  },
  {
   "cell_type": "code",
   "execution_count": null,
   "metadata": {},
   "outputs": [],
   "source": [
    "n_weeks = 6 * 4"
   ]
  },
  {
   "cell_type": "code",
   "execution_count": null,
   "metadata": {},
   "outputs": [],
   "source": [
    "most_profitable_hoods = {}\n",
    "for listings_path, calendar_path in zip(\n",
    "    sorted(airbnb_root.glob(\"**/listings.csv.bz2\")),\n",
    "    sorted(airbnb_root.glob(\"**/calendar.csv.bz2\")),\n",
    "):\n",
    "    region_name = listings_path.parent.name\n",
    "    df, most_profitable_hoods[region_name.title()] = airbnb_avg_profit(\n",
    "        listings_path, calendar_path, n_weeks=n_weeks\n",
    "    )\n",
    "    df.to_csv(results_root.joinpath(f\"question_4_{region_name}.csv\"))\n",
    "\n",
    "most_profitable_hoods_df = pd.DataFrame(most_profitable_hoods).transpose().sort_index()\n",
    "most_profitable_hoods_df.to_csv(results_root.joinpath(\"question_4_summary.csv\"))"
   ]
  },
  {
   "attachments": {},
   "cell_type": "markdown",
   "metadata": {},
   "source": [
    "The function `airbnb_avg_profit` provides two outputs, with the first and second answering the first and second parts of the question, respectively.\n",
    "\n",
    "Data processing steps necessary to answer this question include:\n",
    "\n",
    "1. Load listings and calendar data.\n",
    "2. **[Calendar]** Transform date column to datetime and filter to only include the number of weeks are are interested in (defined by `n_weeks`).\n",
    "3. **[Calendar]** Drop non-numeric values in `listing_id` and numeric values in `adjusted_price`. I assume they are human errors.\n",
    "4. **[Calendar]** Extract numeric value from `adjusted_price_num` string field, which originally includes currency symbol. The new field is called `adjusted_price_num`.\n",
    "5. **[Listings]** Dropping NaN values in the fields `room_type`, `neighbourhood_cleansed` and `id`. I decided to drop them because imputing these would make no sense.\n",
    "6. **[Listings]** Ensure that only string values are present in the fields `room_type` and `neighbourhood_cleansed`. Non-string values are dropped without consideration, as they are considered to be human-made errors. Besides, this was an issue only affecting a few regions. Also ensure the field `id` only contains numeric values.\n",
    "7. Filter calendar rows where `available` equals \"f\". Then group by `listing_id` and sum `adjusted_price_num`. Finally, join table with listings using `id` as index.\n",
    "8. Average expected profits in the observed period per neighbourhood and room type.\n",
    "9. Finally, we sort results to obtain the most profitable neighbourhoods in the observed period per room type.\n"
   ]
  },
  {
   "attachments": {},
   "cell_type": "markdown",
   "metadata": {},
   "source": [
    "### **Question 5. _What listings' factors affect the total profit in the next 6 months? Can the total profit be predicted?_**\n",
    "\n",
    "Here we assume that none of the reserved dates will be cancelled and that they are a good representation of the observed period.\n"
   ]
  },
  {
   "cell_type": "code",
   "execution_count": null,
   "metadata": {},
   "outputs": [],
   "source": [
    "profit_predictions = {}\n",
    "for listings_path, calendar_path in zip(\n",
    "    sorted(airbnb_root.glob(\"**/listings.csv.bz2\")),\n",
    "    sorted(airbnb_root.glob(\"**/calendar.csv.bz2\")),\n",
    "):\n",
    "    region_name = listings_path.parent.name\n",
    "    num_features, cat_features, mean_r2_score = airbnb_predict_profit(\n",
    "        listings_path,\n",
    "        calendar_path,\n",
    "        feature_th=0,\n",
    "        n_weeks=n_weeks,\n",
    "        random_seed=random_seed,\n",
    "    )\n",
    "\n",
    "    results_root.joinpath(f\"question_5_num_features_{region_name}.txt\").write_text(\n",
    "        \"\\n\".join(num_features)\n",
    "    )\n",
    "    results_root.joinpath(f\"question_5_cat_features_{region_name}.txt\").write_text(\n",
    "        \"\\n\".join(cat_features)\n",
    "    )\n",
    "\n",
    "    profit_predictions[region_name.title()] = {\n",
    "        \"num_features\": len(num_features),\n",
    "        \"cat_features\": len(cat_features),\n",
    "        \"mean_r2_score\": mean_r2_score,\n",
    "    }\n",
    "\n",
    "profit_predictions_df = pd.DataFrame(profit_predictions).transpose().sort_index()\n",
    "profit_predictions_df.to_csv(results_root.joinpath(\"question_5_summary.csv\"))"
   ]
  },
  {
   "attachments": {},
   "cell_type": "markdown",
   "metadata": {},
   "source": [
    "The function `airbnb_predict_profit` provides two outputs, with the first and second answering the first and second parts of the question, respectively.\n",
    "\n",
    "Data processing steps necessary to answer this question include:\n",
    "\n",
    "1. Load listings and calendar data.\n",
    "2. **[Calendar]** Transform date column to datetime and filter to only include the number of weeks are are interested in (defined by `n_weeks`).\n",
    "3. **[Calendar]** Drop non-numeric values in `listing_id` and numeric values in `adjusted_price`. I assume they are human errors.\n",
    "4. **[Calendar]** Extract numeric value from `adjusted_price_num` string field, which originally includes currency symbol. The new field is called `adjusted_price_num`.\n",
    "5. **[Listings]** Dropping NaN values in the fields `room_type`, `neighbourhood_cleansed` and `id`. I decided to drop them because imputing these would make no sense.\n",
    "6. **[Listings]** Ensure that only string values are present in the fields `price`, `room_type` and `neighbourhood_cleansed`. Non-string values are dropped without consideration, as they are considered to be human-made errors. Besides, this was an issue only affecting a few regions. Also ensure the field `id` only contains numeric values.\n",
    "7. **[Listings]** Extract numeric value from `price` string field, which originally includes currency symbol. The new field is called `price_num`.\n",
    "8. **[Listings]** Remove possible confounding variables for our predictions. I removed all fields including the keywords \"availability\" and/or \"calculated\".\n",
    "9. Filter calendar rows where `available` equals \"f\". Then group by `listing_id` and sum `adjusted_price_num`. Finally, join table with listings using `id` as index.\n",
    "10. Average expected profits in the observed period per neighbourhood and room type. New field is called `total_profit`.\n",
    "11. Calculate spearman correlation coefficient between `total_profit` and any other field describing a listing, be it a numeric field or a categorical field that has previously been encoded using dummy fields.\n",
    "12. Choose the numeric features (`num_features`) and categorical features (`cat_features`) to be used for data modelling, based on the function argument `feature_th`, which determines the correlation cutoff used to select said features.\n",
    "13. Next steps will be detailed in the data modelling part.\n"
   ]
  },
  {
   "attachments": {},
   "cell_type": "markdown",
   "metadata": {},
   "source": [
    "## **Section 4: Data Modelling**\n",
    "\n",
    "---\n"
   ]
  },
  {
   "attachments": {},
   "cell_type": "markdown",
   "metadata": {},
   "source": [
    "### **Question 5. _What listings' factors affect the total profit in the next 6 months? Can the total profit be predicted?_**\n",
    "\n",
    "Here we assume that none of the reserved dates will be cancelled and that they are a good representation of the observed period.\n"
   ]
  },
  {
   "attachments": {},
   "cell_type": "markdown",
   "metadata": {},
   "source": [
    "To answer the second part of question 5, we must model our data to make predictions on total profits. Continuing after the data preparation detailed in the previous section, here are the additional steps necessary to train our predictive model included in `airbnb_predict_profit`:\n",
    "\n",
    "1. Define the input matrix by subsetting the listings dataframe with the chosen numeric and categorical features.\n",
    "2. Define the tartgets variable to be used, in this case `total_profit`.\n",
    "3. Evaluate a [LightGBM](https://lightgbm.readthedocs.io) regression model using 10-fold cross validation. LightGBM is a gradient boosting ensemble machine learning algorithm that is known for achieving great predictive results while being very computationally efficient. In each fold, we train a [LGBMRegressor](https://lightgbm.readthedocs.io/en/latest/pythonapi/lightgbm.LGBMRegressor.html) model and measure performance using [R2 score](https://scikit-learn.org/stable/modules/generated/sklearn.metrics.r2_score.html). This roughly translates to the percentage of the variability in the target variable the model is able to explain."
   ]
  },
  {
   "attachments": {},
   "cell_type": "markdown",
   "metadata": {},
   "source": [
    "## **Section 5: Evaluation of results**\n",
    "\n",
    "---\n"
   ]
  },
  {
   "attachments": {},
   "cell_type": "markdown",
   "metadata": {},
   "source": [
    "Let's take a look at the results we obtained when trying to answer each of our business questions."
   ]
  },
  {
   "cell_type": "code",
   "execution_count": null,
   "metadata": {},
   "outputs": [],
   "source": [
    "def print_results(q_idx: int):\n",
    "    \"\"\"\n",
    "    Load and print results answering business questions.\n",
    "\n",
    "    Args:\n",
    "        q_idx: Question number whose results to load.\n",
    "    \"\"\"\n",
    "    for file_path in sorted(results_root.glob(f\"question_{q_idx}_*.csv\")):\n",
    "        if \"summary\" in file_path.stem:\n",
    "            continue\n",
    "        print(f\"Question {q_idx} - {file_path.stem.split('_')[-1].title()}:\")\n",
    "        ICD.display(pd.read_csv(file_path, index_col=0).head(9))\n",
    "        print(\"\\n\")\n",
    "\n",
    "    print(f\"Question {q_idx} - Summary output for all Spanish regions:\")\n",
    "    ICD.display(\n",
    "        pd.read_csv(\n",
    "            results_root.joinpath(f\"question_{q_idx}_summary.csv\"), index_col=0\n",
    "        ).head(9)\n",
    "    )"
   ]
  },
  {
   "attachments": {},
   "cell_type": "markdown",
   "metadata": {},
   "source": [
    "### **Question 1: _What is the average price of each location type per neighbourhood? What are the most expensive neighbourhoods on average?_**\n"
   ]
  },
  {
   "attachments": {},
   "cell_type": "markdown",
   "metadata": {},
   "source": [
    "There are four types of listings in Airbnb. We can either rent an entire home or apartment, a hotel room, a private room or a shared room. Depending on which modality we are interesting in, now we know which neighbourhoods in each Spanish region are the most expensive on average:"
   ]
  },
  {
   "cell_type": "code",
   "execution_count": null,
   "metadata": {},
   "outputs": [],
   "source": [
    "print_results(1)"
   ]
  },
  {
   "attachments": {},
   "cell_type": "markdown",
   "metadata": {},
   "source": [
    "### **Question 2: _What is the average host acceptance rate per location type and neighborhood? In which neighbourhoods is it the lowest?_**\n"
   ]
  },
  {
   "attachments": {},
   "cell_type": "markdown",
   "metadata": {},
   "source": [
    "Each listing has an acceptance rate value. We can hypothesize that the lower the acceptance rate on average, the higher the demand for rented properties there is in that area. This means hosts have a stronger negotiating power and can discard guests at will. This can be used as an indication of the most attractive areas that need to be served:"
   ]
  },
  {
   "cell_type": "code",
   "execution_count": null,
   "metadata": {},
   "outputs": [],
   "source": [
    "print_results(2)"
   ]
  },
  {
   "attachments": {},
   "cell_type": "markdown",
   "metadata": {},
   "source": [
    "### **Question 3. _What number and proportion of listings per neighbourhood belong to hosts owning different numbers of locations? In which neighbourhoods is the concentration lower?_**\n"
   ]
  },
  {
   "attachments": {},
   "cell_type": "markdown",
   "metadata": {},
   "source": [
    "We can easily see which listings belong to which hosts. In some areas, there are a few hosts owning many of the listed places. These are probably real state agencies or wealthy people that control many Airbnb properties at the same time. If we are going to invest in a certain area, we should make sure that the bigger players are not going to pose a thread (e.g. through better means to attract guests). Therefore, we look at the neighbourhoods with the least concentration of competitors:"
   ]
  },
  {
   "cell_type": "code",
   "execution_count": null,
   "metadata": {},
   "outputs": [],
   "source": [
    "print_results(3)"
   ]
  },
  {
   "attachments": {},
   "cell_type": "markdown",
   "metadata": {},
   "source": [
    "### **Question 4: _What is the expected average profit per room type and neighborhood when looking at the reservations for the next 6 months? What is the neighbourhood expected to be the most profitable in that period?_**\n",
    "\n",
    "Here we assume that none of the reserved dates will be cancelled and that they are a good representation of the observed period.\n"
   ]
  },
  {
   "attachments": {},
   "cell_type": "markdown",
   "metadata": {},
   "source": [
    "To answer this question, we need to look at the calendar information that we also obtained from Airbnb. There we can take a look at the dates that have already been reserved. If we assume that these are a good indication of general trend over time, then we can use this information to calculate the expected profit over a certain period. These would be the neighbourhoods for each Spanish region with the highest profits in the next 6 months, starting in September 2022:"
   ]
  },
  {
   "cell_type": "code",
   "execution_count": null,
   "metadata": {},
   "outputs": [],
   "source": [
    "print_results(4)"
   ]
  },
  {
   "attachments": {},
   "cell_type": "markdown",
   "metadata": {},
   "source": [
    "### **Question 5. _What listings' factors affect the total profit in the next 6 months? Can the total profit be predicted?_**\n",
    "\n",
    "Here we assume that none of the reserved dates will be cancelled and that they are a good representation of the observed period.\n"
   ]
  },
  {
   "attachments": {},
   "cell_type": "markdown",
   "metadata": {},
   "source": [
    "Finally, we would like to know if the characteristics of a listing, such as the number of people it accommodates or the neighbourhood they are in, can be used to predict the total profit over a period of 6 months. Here we use a machine learning algorithm, LightGBM, to model our data and make predictions. Here is the final R2 score for each Spanish region, which roughly translates to the variance in the output captured by the model:"
   ]
  },
  {
   "cell_type": "code",
   "execution_count": null,
   "metadata": {},
   "outputs": [],
   "source": [
    "print_results(5)"
   ]
  }
 ],
 "metadata": {
  "kernelspec": {
   "display_name": "airbnb_spain",
   "language": "python",
   "name": "python3"
  },
  "language_info": {
   "codemirror_mode": {
    "name": "ipython",
    "version": 3
   },
   "file_extension": ".py",
   "mimetype": "text/x-python",
   "name": "python",
   "nbconvert_exporter": "python",
   "pygments_lexer": "ipython3",
   "version": "3.11.0"
  },
  "orig_nbformat": 4,
  "vscode": {
   "interpreter": {
    "hash": "ae3f06d85a44bfbb20b23c03a4be431ef437bbd8be64731e67f83cfb240ee6b1"
   }
  }
 },
 "nbformat": 4,
 "nbformat_minor": 2
}
